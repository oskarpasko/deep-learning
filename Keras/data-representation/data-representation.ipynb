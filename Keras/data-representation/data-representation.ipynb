{
 "cells": [
  {
   "cell_type": "markdown",
   "id": "a7296559",
   "metadata": {},
   "source": [
    "# Reprezenacja danych sieci neuronowych"
   ]
  },
  {
   "cell_type": "markdown",
   "id": "766541f6",
   "metadata": {},
   "source": [
    "Tensor - struktura danych. Tensory są uogólnieniem macierzy w przestrzeniach o dowolnej liczbie wymiarów. W kontekście tensorów **wymiary** nazywa się **osiami**. Liczba osi tensora określana jest również jako jego **ranga**."
   ]
  },
  {
   "cell_type": "markdown",
   "id": "05cd608b",
   "metadata": {},
   "source": [
    "## Skalary (tensory zerowymiarowe)"
   ]
  },
  {
   "cell_type": "code",
   "execution_count": 6,
   "id": "f1eccd6c",
   "metadata": {},
   "outputs": [
    {
     "data": {
      "text/plain": [
       "0"
      ]
     },
     "execution_count": 6,
     "metadata": {},
     "output_type": "execute_result"
    }
   ],
   "source": [
    "import numpy as np\n",
    "\n",
    "x = np.array(12)\n",
    "x.ndim"
   ]
  },
  {
   "cell_type": "markdown",
   "id": "673186a5",
   "metadata": {},
   "source": [
    "## Wektory (tensory jednowymiarowe)"
   ]
  },
  {
   "cell_type": "code",
   "execution_count": 7,
   "id": "d7d4b14f",
   "metadata": {},
   "outputs": [
    {
     "data": {
      "text/plain": [
       "1"
      ]
     },
     "execution_count": 7,
     "metadata": {},
     "output_type": "execute_result"
    }
   ],
   "source": [
    "x = np.array([12, 3, 6, 14, 67, 11])\n",
    "x.ndim"
   ]
  },
  {
   "cell_type": "markdown",
   "id": "42104ee2",
   "metadata": {},
   "source": [
    "## Macierze (tensory dwuwymiarowe)"
   ]
  },
  {
   "cell_type": "code",
   "execution_count": 8,
   "id": "ecf07a04",
   "metadata": {},
   "outputs": [
    {
     "data": {
      "text/plain": [
       "2"
      ]
     },
     "execution_count": 8,
     "metadata": {},
     "output_type": "execute_result"
    }
   ],
   "source": [
    "x = np.array([[5, 78, 2, 34, 0],\n",
    "              [6, 79, 3, 35, 1],\n",
    "              [7, 80, 4, 36, 2]])\n",
    "x.ndim"
   ]
  },
  {
   "cell_type": "markdown",
   "id": "8744edf9",
   "metadata": {},
   "source": [
    "## Tensory trójwymiarowe i tensory o większej liczbie wymiarów"
   ]
  },
  {
   "cell_type": "code",
   "execution_count": 10,
   "id": "0153812f",
   "metadata": {},
   "outputs": [
    {
     "data": {
      "text/plain": [
       "3"
      ]
     },
     "execution_count": 10,
     "metadata": {},
     "output_type": "execute_result"
    }
   ],
   "source": [
    "x = np.array([[[5, 78, 2, 34, 0],\n",
    "              [6, 79, 3, 35, 1],\n",
    "              [7, 80, 4, 36, 2]],\n",
    "             [[5, 78, 2, 34, 0],\n",
    "              [6, 79, 3, 35, 1],\n",
    "              [7, 80, 4, 36, 2]],\n",
    "             [[5, 78, 2, 34, 0],\n",
    "              [6, 79, 3, 35, 1],\n",
    "              [7, 80, 4, 36, 2]]])\n",
    "x.ndim"
   ]
  },
  {
   "cell_type": "markdown",
   "id": "e87cb38f",
   "metadata": {},
   "source": [
    "## Przykład"
   ]
  },
  {
   "cell_type": "markdown",
   "id": "1bf3e962",
   "metadata": {},
   "source": [
    "### Analiza tensora z first-example"
   ]
  },
  {
   "cell_type": "code",
   "execution_count": 11,
   "id": "139758b5",
   "metadata": {},
   "outputs": [],
   "source": [
    "from keras.datasets import mnist\n",
    "\n",
    "(train_images, train_labels), (test_images, test_labels) = mnist.load_data()"
   ]
  },
  {
   "cell_type": "code",
   "execution_count": 12,
   "id": "120cf308",
   "metadata": {},
   "outputs": [
    {
     "name": "stdout",
     "output_type": "stream",
     "text": [
      "Liczba osi tensora train_images wynosi:  3\n"
     ]
    }
   ],
   "source": [
    "print('Liczba osi tensora train_images wynosi: ', train_images.ndim)"
   ]
  },
  {
   "cell_type": "code",
   "execution_count": 13,
   "id": "40d6ef45",
   "metadata": {},
   "outputs": [
    {
     "name": "stdout",
     "output_type": "stream",
     "text": [
      "Kształt tensora:  (60000, 28, 28)\n"
     ]
    }
   ],
   "source": [
    "print('Kształt tensora: ', train_images.shape)"
   ]
  },
  {
   "cell_type": "code",
   "execution_count": 14,
   "id": "6e159fef",
   "metadata": {},
   "outputs": [
    {
     "name": "stdout",
     "output_type": "stream",
     "text": [
      "Typ danych tensora:  uint8\n"
     ]
    }
   ],
   "source": [
    "print('Typ danych tensora: ', train_images.dtype)"
   ]
  },
  {
   "cell_type": "markdown",
   "id": "4b1a66bd",
   "metadata": {},
   "source": [
    "### Wyświetlenie czwartej cyfry"
   ]
  },
  {
   "cell_type": "code",
   "execution_count": 16,
   "id": "3f222de9",
   "metadata": {},
   "outputs": [
    {
     "data": {
      "image/png": "[encoded data removed]",
      "text/plain": [
       "<Figure size 640x480 with 1 Axes>"
      ]
     },
     "metadata": {},
     "output_type": "display_data"
    }
   ],
   "source": [
    "digit = train_images[4]\n",
    "\n",
    "import matplotlib.pyplot as plt\n",
    "plt.imshow(digit, cmap=plt.cm.binary)\n",
    "plt.show()"
   ]
  }
 ],
 "metadata": {
  "kernelspec": {
   "display_name": "Python 3 (ipykernel)",
   "language": "python",
   "name": "python3"
  },
  "language_info": {
   "codemirror_mode": {
    "name": "ipython",
    "version": 3
   },
   "file_extension": ".py",
   "mimetype": "text/x-python",
   "name": "python",
   "nbconvert_exporter": "python",
   "pygments_lexer": "ipython3",
   "version": "3.10.11"
  }
 },
 "nbformat": 4,
 "nbformat_minor": 5
}
